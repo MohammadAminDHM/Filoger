{
 "cells": [
  {
   "cell_type": "markdown",
   "id": "3e1bb28a",
   "metadata": {},
   "source": [
    "# Data Analysis for Mobile gaming"
   ]
  },
  {
   "cell_type": "markdown",
   "id": "591aaf78",
   "metadata": {},
   "source": [
    "Here we have a data set of mobile game. We see the first row of the dataset below:"
   ]
  },
  {
   "cell_type": "code",
   "execution_count": 1,
   "id": "45b122f9",
   "metadata": {},
   "outputs": [],
   "source": [
    "import numpy as np\n",
    "import pandas as pd\n",
    "import matplotlib.pyplot as plt \n",
    "from scipy import stats\n",
    "import seaborn as sns"
   ]
  },
  {
   "cell_type": "code",
   "execution_count": 2,
   "id": "04283dad",
   "metadata": {},
   "outputs": [],
   "source": [
    "df=pd.read_csv('mibilegame.csv') "
   ]
  },
  {
   "cell_type": "code",
   "execution_count": 5,
   "id": "05e4713f",
   "metadata": {},
   "outputs": [
    {
     "data": {
      "text/html": [
       "<div>\n",
       "<style scoped>\n",
       "    .dataframe tbody tr th:only-of-type {\n",
       "        vertical-align: middle;\n",
       "    }\n",
       "\n",
       "    .dataframe tbody tr th {\n",
       "        vertical-align: top;\n",
       "    }\n",
       "\n",
       "    .dataframe thead th {\n",
       "        text-align: right;\n",
       "    }\n",
       "</style>\n",
       "<table border=\"1\" class=\"dataframe\">\n",
       "  <thead>\n",
       "    <tr style=\"text-align: right;\">\n",
       "      <th></th>\n",
       "      <th>userid</th>\n",
       "      <th>version</th>\n",
       "      <th>sum_gamerounds</th>\n",
       "      <th>retention_1</th>\n",
       "      <th>retention_7</th>\n",
       "    </tr>\n",
       "  </thead>\n",
       "  <tbody>\n",
       "    <tr>\n",
       "      <th>0</th>\n",
       "      <td>116</td>\n",
       "      <td>gate_30</td>\n",
       "      <td>3</td>\n",
       "      <td>False</td>\n",
       "      <td>False</td>\n",
       "    </tr>\n",
       "    <tr>\n",
       "      <th>1</th>\n",
       "      <td>337</td>\n",
       "      <td>gate_30</td>\n",
       "      <td>38</td>\n",
       "      <td>True</td>\n",
       "      <td>False</td>\n",
       "    </tr>\n",
       "    <tr>\n",
       "      <th>2</th>\n",
       "      <td>377</td>\n",
       "      <td>gate_40</td>\n",
       "      <td>165</td>\n",
       "      <td>True</td>\n",
       "      <td>False</td>\n",
       "    </tr>\n",
       "    <tr>\n",
       "      <th>3</th>\n",
       "      <td>483</td>\n",
       "      <td>gate_40</td>\n",
       "      <td>1</td>\n",
       "      <td>False</td>\n",
       "      <td>False</td>\n",
       "    </tr>\n",
       "    <tr>\n",
       "      <th>4</th>\n",
       "      <td>488</td>\n",
       "      <td>gate_40</td>\n",
       "      <td>179</td>\n",
       "      <td>True</td>\n",
       "      <td>True</td>\n",
       "    </tr>\n",
       "  </tbody>\n",
       "</table>\n",
       "</div>"
      ],
      "text/plain": [
       "   userid  version  sum_gamerounds  retention_1  retention_7\n",
       "0     116  gate_30               3        False        False\n",
       "1     337  gate_30              38         True        False\n",
       "2     377  gate_40             165         True        False\n",
       "3     483  gate_40               1        False        False\n",
       "4     488  gate_40             179         True         True"
      ]
     },
     "execution_count": 5,
     "metadata": {},
     "output_type": "execute_result"
    }
   ],
   "source": [
    "df.head()"
   ]
  },
  {
   "cell_type": "markdown",
   "id": "e7e1cbd7-dae8-4a2a-80af-ac498fa99f99",
   "metadata": {},
   "source": [
    "<div dir=rtl>\n",
    "براساس اطلاعات سوال دو تا گروه داریم: گروه اول کسانیکه تبلیغات را دیده اند و مقدار version برای آنها برابر gate_40 است. و گروه دوم گروهی که تبلیغات را ندیده اند و version آنها gate_30 است.\n",
    "    میانگین گروه اول بر روی ستون sum_game_round برابر ad_mean و میانگین گروه دوم noAd_mean است که نشان میدهد گروهی که تبلیغات دیده اند حتی بطور میانگین در تعداد  دورهای بازی کاهش داشته اند: \n",
    "\n",
    "</div>"
   ]
  },
  {
   "cell_type": "code",
   "execution_count": 3,
   "id": "8894bf1e",
   "metadata": {},
   "outputs": [
    {
     "name": "stdout",
     "output_type": "stream",
     "text": [
      "ad_mean   = 51.29877552814966\n",
      "noAd_mean = 52.45626398210291\n",
      "ad_mean - noAd_mean = -1.157488453953249\n"
     ]
    }
   ],
   "source": [
    "df_ad=df[df.version=='gate_40']\n",
    "df_noAd=df[df.version=='gate_30']\n",
    "\n",
    "ad_mean   = df_ad.sum_gamerounds.mean()\n",
    "noAd_mean = df_noAd.sum_gamerounds.mean()\n",
    "origional_mean_diff = df_ad.sum_gamerounds.mean() - df_noAd.sum_gamerounds.mean()\n",
    "\n",
    "print(f\"ad_mean   = {ad_mean}\")\n",
    "print(f\"noAd_mean = {noAd_mean}\")\n",
    "print(f\"ad_mean - noAd_mean = { origional_mean_diff}\")"
   ]
  },
  {
   "cell_type": "markdown",
   "id": "5a6ad3a6-63d5-4f3c-b5ea-3becd78ae1b9",
   "metadata": {},
   "source": [
    "به این ترتیب نیازی نیست چک کنیم آیا تبلیغات اثر مثبت روی افزایش گیم روندها داشته یا نه.\n",
    "اما بیاییم ببینیم آیا روش بد تبلیغات باعث این کاهش در گیم روندها بوده یا اینکه این مقدار کاهش شانسی بوده است. برای این کار از یو تست می توان استفاده کرد. این تست نشان داد که بله تبلیغات با شیوه نامناسب باعث کاهش استقبال از بازی بوده است:\n",
    "\n"
   ]
  },
  {
   "cell_type": "code",
   "execution_count": 4,
   "id": "5431b5a0",
   "metadata": {},
   "outputs": [
    {
     "name": "stdout",
     "output_type": "stream",
     "text": [
      "The u-test 's p_value is 0.05020880772044255 and confidence level is : 0.05. Hence: \n",
      "There is no evidence that sum_gamerounds' reduction is due to the bad advertisements.\n"
     ]
    }
   ],
   "source": [
    "confidence_level=0.05\n",
    "u_stat, p_value = stats.mannwhitneyu(df_noAd['sum_gamerounds'] , df_ad['sum_gamerounds'] , alternative='greater')\n",
    "print (f\"The u-test 's p_value is {p_value} and confidence level is : {confidence_level}. Hence: \")\n",
    "if p_value < confidence_level:\n",
    "    print('U-test confirms that bad advertisements tended to the reduction of sum_gamerounds')\n",
    "else:\n",
    "    print(\"There is no evidence that sum_gamerounds' reduction is due to the bad advertisements.\")"
   ]
  },
  {
   "cell_type": "markdown",
   "id": "64b0f8ee-f53e-4b7c-baa7-0a68fb01dd3f",
   "metadata": {},
   "source": [
    "<div dir=rtl>\n",
    "    می توانیم با استفاده از a/b تست هم این تست را انجام دهیم. برچسب های رندوم برای دیتا تولید کنیم به طوری که شانس افتادن در گروه ad باندازه len_ad/len_total باشد و باندازه یک منهای این مقدار شانس افتادن در گروه noAd باشد. سپس این برچسبهای شانسی را به دیتا یعنی ستون sum_game_round میدهیم تا دو گروه شانسی ad , noAd جدید تشکیل شود و سپس تفاضل میانگینهای sum_game_rond برای دو گروه شانسی را را محاسبه میکنیم. این کار را N=10000 بار تکرار میکنیم و سپس میبینیم در چند درصد موراد این تفاضل میانگینهای دوگروه شانسی از تفاضل میانگینهای دو گروه اورجینال (مشاهداتمان) کمتر است:\n",
    "    \n",
    "</div>"
   ]
  },
  {
   "cell_type": "code",
   "execution_count": 7,
   "id": "169d3833-c4e1-4447-a820-74133243558e",
   "metadata": {},
   "outputs": [
    {
     "name": "stdout",
     "output_type": "stream",
     "text": [
      "p_value = 0.2397. There is not enough evidences that confirm the bad advertisements was the reason for reduction in sum of game rounds\n"
     ]
    }
   ],
   "source": [
    "N=10000\n",
    "\n",
    "def sh_exp(N   ):\n",
    "    len_total=len(df)\n",
    "    len_ad=len(df_ad)\n",
    "    len_noAd=len(df_noAd) \n",
    "    chancy_labeled_mean_diff = np.empty([N, 1])\n",
    "    for times in np.arange(N):\n",
    "        chancy_labels = np.random.choice([1,0], size=len_total,  p=[len_ad/len_total ,1-len_ad/len_total ])\n",
    "        chancy_labeled_data = np.array([\n",
    "            chancy_labels,\n",
    "            np.array(df.sum_gamerounds)\n",
    "            \n",
    "        ]).T\n",
    "        chancy_labeled_mean_ad   = chancy_labeled_data[chancy_labeled_data[:, 0] == 1][:, 1].mean()\n",
    "        chancy_labeled_mean_noAd = chancy_labeled_data[chancy_labeled_data[:, 0] == 0][:, 1].mean()\n",
    "        chancy_labeled_mean_diff[times] = chancy_labeled_mean_ad - chancy_labeled_mean_noAd\n",
    "    return chancy_labeled_mean_diff\n",
    "\n",
    "\n",
    "e=sh_exp(N  )\n",
    "p_value = len(e [e <  origional_mean_diff]) / len(e)\n",
    "if p_value<confidence_level:\n",
    "    print(f'p_value = {p_value} implies Bad advertisements was the reason for reduction of sum of game rounds')\n",
    "else:\n",
    "    print(f\"p_value = {p_value}. There is not enough evidences that confirm the bad advertisements was the reason for reduction in sum of game rounds\")"
   ]
  },
  {
   "cell_type": "code",
   "execution_count": 17,
   "id": "bd9b1d3c-1bf2-4044-8391-c96da4bea466",
   "metadata": {},
   "outputs": [
    {
     "data": {
      "text/plain": [
       "<Axes: ylabel='Count'>"
      ]
     },
     "execution_count": 17,
     "metadata": {},
     "output_type": "execute_result"
    },
    {
     "data": {
      "image/png": "[encoded data removed]",
      "text/plain": [
       "<Figure size 640x480 with 1 Axes>"
      ]
     },
     "metadata": {},
     "output_type": "display_data"
    }
   ],
   "source": [
    "sns.histplot(e, bins=50)"
   ]
  },
  {
   "cell_type": "code",
   "execution_count": null,
   "id": "419b5461",
   "metadata": {},
   "outputs": [],
   "source": []
  }
 ],
 "metadata": {
  "kernelspec": {
   "display_name": "Python 3 (ipykernel)",
   "language": "python",
   "name": "python3"
  },
  "language_info": {
   "codemirror_mode": {
    "name": "ipython",
    "version": 3
   },
   "file_extension": ".py",
   "mimetype": "text/x-python",
   "name": "python",
   "nbconvert_exporter": "python",
   "pygments_lexer": "ipython3",
   "version": "3.9.12"
  }
 },
 "nbformat": 4,
 "nbformat_minor": 5
}
